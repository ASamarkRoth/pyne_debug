{
 "cells": [
  {
   "cell_type": "markdown",
   "metadata": {},
   "source": [
    "# Pyne"
   ]
  },
  {
   "cell_type": "code",
   "execution_count": null,
   "metadata": {},
   "outputs": [],
   "source": [
    "import numpy as np\n",
    "import os, sys, yaml, re\n",
    "from IPython.display import display, Markdown, Latex #Can write latex too!!!!\n",
    "import pandas as pd\n",
    "\n",
    "import argparse\n",
    "import shutil\n",
    "import math\n",
    "import matplotlib as mpl\n",
    "\n",
    "import matplotlib.pyplot as plt\n",
    "import matplotlib.mlab as mlab\n",
    "\n",
    "import scipy.optimize as so\n",
    "import tables as tb\n",
    "\n",
    "colors = plt.rcParams['axes.prop_cycle'].by_key()['color'];\n",
    "\n",
    "#to view entire table (columns and rows)\n",
    "pd.set_option('display.max_colwidth', -1)\n",
    "pd.set_option('display.max_rows', None)  \n",
    "\n",
    "from pyne import ensdf, nucname, nuc_data, data"
   ]
  },
  {
   "cell_type": "markdown",
   "metadata": {},
   "source": [
    "Declaring classes and parameters"
   ]
  },
  {
   "cell_type": "code",
   "execution_count": null,
   "metadata": {},
   "outputs": [],
   "source": [
    "def GetQ(E, m):\n",
    "    return np.multiply(E, (1 + np.divide(4.,m-4)));\n",
    "\n",
    "class ADecay:\n",
    "    def __init__(self, data):\n",
    "        if isinstance(data[0], int):\n",
    "            self.mother_id = int(data[0])\n",
    "            #print('Setting mother_id = ', self.mother_id)\n",
    "            if self.mother_id < 0:\n",
    "                self.mother_id = -self.mother_id\n",
    "        else:\n",
    "            self.mother_id = None\n",
    "        if isinstance(data[1], int):\n",
    "            self.child_id = int(data[1])            \n",
    "            #print('Setting child_id = ', self.child_id)\n",
    "            if self.child_id < 0:\n",
    "                self.child_id = -self.child_id\n",
    "        else:\n",
    "            self.child_id = None\n",
    "        if data[3] is not None:\n",
    "            self.half_life = float(data[3])\n",
    "        else:\n",
    "            self.half_life = np.nan\n",
    "        if data[4] is not None:\n",
    "            self.half_life_error = float(data[4])\n",
    "        else:\n",
    "            self.half_life_error = np.nan\n",
    "        if data[5] is not None:\n",
    "            self.branch_ratio = float(data[5])\n",
    "        else:\n",
    "            self.branch_ratio = np.nan\n",
    "        if data[6] is not None:\n",
    "            self.branch_ratio_error = float(data[6])\n",
    "        else:\n",
    "            self.branch_ratio_error = np.nan\n",
    "\n",
    "        if self.mother_id is not None:\n",
    "            self.A = int(nucname.anum(self.mother_id))\n",
    "            self.Z = int(nucname.znum(self.mother_id))\n",
    "            self.name = nucname.name(self.mother_id)\n",
    "            self.Zname = nucname.zz_name[self.Z]\n",
    "        else:\n",
    "            #print('data[0] = ', data[0])\n",
    "            rec = ensdf_mod.extra_SHE.match(data[0])\n",
    "            self.A = int(rec.group(1))\n",
    "            self.Z = int(ensdf_mod.d_extra_SHE[rec.group(2)])\n",
    "            self.name = rec.group(2)+rec.group(1)\n",
    "            self.Zname = rec.group(2)\n",
    "        if self.child_id is not None:\n",
    "            self.a = int(nucname.anum(self.child_id))\n",
    "            self.z = int(nucname.znum(self.child_id))\n",
    "        else:\n",
    "            #print('data[1] = ', data[1])\n",
    "            self.a = int(data[1][1])\n",
    "            self.z = int(ensdf_mod.d_extra_SHE[data[1][0]])\n",
    "        \n",
    "        \n",
    "        self.decay_mode = ''\n",
    "        if self.A - self.a == 4:\n",
    "            self.decay_mode = 'Alpha'\n",
    "        elif self.A == self.a and self.Z == self.z+1:\n",
    "            self.decay_mode = 'Beta_minus'\n",
    "        elif self.A == self.a and self.Z == self.z-1:\n",
    "            self.decay_mode = 'Beta_plus_or_EC'\n",
    "        elif self.A == self.a and self.Z == self.z:\n",
    "            self.decay_mode = 'gamma'\n",
    "        #else:\n",
    "            #print(\"WARNING NO DECAY MODE FOR\", self)\n",
    "        \n",
    "        if self.name[-1] == 'M':\n",
    "            self.isomer = True\n",
    "        else: \n",
    "            self.isomer = False\n",
    "        \n",
    "        if data[-3] is not None:\n",
    "            self.e_parent = data[-3]*1e-3\n",
    "        else:\n",
    "            self.e_parent = np.nan\n",
    "        if self.e_parent > 0 and ~self.isomer:\n",
    "            self.isomer = True\n",
    "            print('WARNING: by pyne wrongly assigned isomer!', self.name)\n",
    "                \n",
    "        if data[-2] is not None:\n",
    "            self.l_parent, self.l_parent_tent = data[-2]\n",
    "        else:\n",
    "            self.l_parent, self.l_parent_tent = np.nan, np.nan\n",
    "        if data[-1] is not None:\n",
    "            self.parity_parent, self.parity_parent_tent = data[-1]\n",
    "        else:\n",
    "            self.parity_parent, self.parity_parent_tent = np.nan, np.nan\n",
    "\n",
    "        #print(\"parent vals: \", self.l_parent, self.l_parent_tent, self.parity_parent, self.parity_parent_tent)\n",
    "\n",
    "        self.nbranches = 0\n",
    "        self.E_alphas = None\n",
    "        self.I_alphas = None\n",
    "        self.child_levels = None\n",
    "        self.child_l = None\n",
    "        self.child_l_tent = None\n",
    "        self.l_alphas = None\n",
    "        self.l_alphas_tent = None\n",
    "        self.child_parity = None\n",
    "        self.child_parity_tent = None\n",
    "        print(data[12])\n",
    "        if data[12] is not None:\n",
    "            self.nbranches = len(data[12])\n",
    "            self.E_alphas = np.full(self.nbranches, np.nan)\n",
    "            self.Q_alphas = np.full(self.nbranches, np.nan)\n",
    "            self.I_alphas = np.full(self.nbranches, np.nan)\n",
    "            self.child_levels = np.full(self.nbranches, np.nan)\n",
    "            self.child_l = np.full(self.nbranches, np.nan)\n",
    "            self.l_alphas = np.full(self.nbranches, np.nan)\n",
    "            self.l_alphas_tent = np.full(self.nbranches, np.nan)\n",
    "            self.child_l_tent = np.full(self.nbranches, np.nan)\n",
    "            self.child_parity = np.full(self.nbranches, np.nan)\n",
    "            self.child_parity_tent = np.full(self.nbranches, np.nan)\n",
    "            for i, v in enumerate(data[12]):\n",
    "                self.E_alphas[i] = v[2]\n",
    "                self.Q_alphas[i] = GetQ(self.E_alphas[i]*.001, self.A)\n",
    "                if v[3] is not None:\n",
    "                    self.I_alphas[i] = v[3]*1e-2\n",
    "                if v[4] is not None:\n",
    "                    self.child_levels[i] = v[4]*1e-3\n",
    "                if v[5] is not None:\n",
    "                    self.child_l[i], self.child_l_tent[i] = v[5]\n",
    "                if v[6] is not None:\n",
    "                    self.child_parity[i], self.child_parity_tent[i] = v[6]\n",
    "                self.l_alphas[i] = np.abs(self.l_parent-self.child_l[i])\n",
    "                if any(np.isnan([self.child_l[i], self.l_parent])):\n",
    "                    self.l_alphas_tent[i] = np.nan\n",
    "                else:\n",
    "                    self.l_alphas_tent[i] = bool(self.l_parent_tent)|bool(self.child_l_tent[i])\n",
    "        \n",
    "        #sometimes if only one branch, the intensity is not indicated at ensdf\n",
    "        if self.nbranches == 1 and np.isnan(self.I_alphas[0]):\n",
    "            self.I_alphas[0] = 1\n",
    "\n",
    "            \n",
    "     #overload string representation which is e.g. invoked in print()\n",
    "    def __str__(self):\n",
    "        string = self.name + ':\\n'\n",
    "        string += 'half-life = ' + str(self.half_life) + '+-' + str(self.half_life_error) + '\\n'\n",
    "        string += 'branch_ratio = ' + str(self.branch_ratio) + '+-' + str(self.branch_ratio_error) + '\\n'\n",
    "        string += \"Q_alphas = \" + np.str(self.Q_alphas) + '\\n'\n",
    "        string += \"I_alphas = \" + np.str(self.I_alphas) + '\\n'\n",
    "        string += \"child_l = \" + np.str(self.child_l)+ '\\n'\n",
    "        string += \"child_l_tent = \" + np.str(self.child_l_tent)+ '\\n'\n",
    "        string += \"e_parent = \" + np.str(self.e_parent)+ '\\n'\n",
    "        string += \"l_parent = \" + np.str(self.l_parent)+ '\\n'\n",
    "        string += \"l_parent_tent = \" + np.str(self.l_parent_tent)+ '\\n'\n",
    "        string += \"l_alpha = \" + np.str(self.l_alphas)+ '\\n'\n",
    "        string += \"l_alpha_tent = \" + np.str(self.l_alphas_tent)+ '\\n'\n",
    "        return string\n",
    "        \n",
    "    #overload representation which is important if the object is retrieved from list\n",
    "    def __repr__(self):\n",
    "        return str(self)"
   ]
  },
  {
   "cell_type": "markdown",
   "metadata": {},
   "source": [
    "Read nuclear data and import into variables"
   ]
  },
  {
   "cell_type": "code",
   "execution_count": null,
   "metadata": {},
   "outputs": [],
   "source": [
    "ind_names = [\"Mother Nucleus\"]\n",
    "\n",
    "column_names = [\"A\", \"Z\", \"Isomer?\", \"Q_alpha (MeV)\", \"t1/2 (s)\", \"I_alpha (%)\", \"I_alpha_branch (%)\",  \"Excitation energy (MeV)\", \"ang_mom_alpha\", 'ang_mom_alpha_tent']"
   ]
  },
  {
   "cell_type": "code",
   "execution_count": null,
   "metadata": {},
   "outputs": [],
   "source": [
    "alpha_list = ensdf.decays(filename='ensdf_alpha_decay.txt')\n",
    "alpha_list = ensdf.decays(filename='ensdf_alpha_SHN.txt', decaylist=alpha_list)"
   ]
  },
  {
   "cell_type": "code",
   "execution_count": null,
   "metadata": {},
   "outputs": [],
   "source": [
    "alpha_data = []\n",
    "index = np.asarray([])\n",
    "for i, v in enumerate(alpha_list):\n",
    "    try:\n",
    "        a = ADecay(v)\n",
    "        if a.name == '':\n",
    "            print('\\ndata = ', v, '\\n')\n",
    "            print(a, \"\\n\")\n",
    "            break\n",
    "        if a.decay_mode == 'Alpha':\n",
    "            for j in range(a.nbranches):\n",
    "                alpha_data.append([int(a.A), int(a.Z), int(a.isomer), float(a.Q_alphas[j]), float(a.half_life), float(a.branch_ratio), float(a.I_alphas[j]), float(a.child_levels[j]), float(a.l_alphas[j]), float(a.l_alphas_tent[j])])\n",
    "                index = np.append(index, np.asarray([a.name]))\n",
    "    except RuntimeError:\n",
    "        print('RuntimeError: Nucleus not found!')\n",
    "\n",
    "print('Shape index, data = ', np.shape(index.reshape(len(index), 1)), np.shape(np.asarray(alpha_data)))\n",
    "index = index.reshape(len(index), 1)\n",
    "alpha_data = np.asarray(alpha_data)\n",
    "#print(alpha_data)\n",
    "index = pd.MultiIndex.from_arrays(index.T, names=ind_names)"
   ]
  },
  {
   "cell_type": "code",
   "execution_count": null,
   "metadata": {},
   "outputs": [],
   "source": [
    "alpha_data_table = dict(zip(column_names, alpha_data.T))\n",
    "df = pd.DataFrame(data=alpha_data_table, index=index, columns=column_names)\n",
    "#to view entire table (columns and rows)\n",
    "pd.set_option('display.max_colwidth', -1)\n",
    "pd.set_option('display.max_rows', None)\n",
    "for i in range(3, len(df.columns)):\n",
    "    df.iloc[:,i] = pd.to_numeric(df.iloc[:,i])\n",
    "display(df)"
   ]
  },
  {
   "cell_type": "code",
   "execution_count": null,
   "metadata": {},
   "outputs": [],
   "source": [
    "df['t1/2_alpha (s)'] = np.divide(df['t1/2 (s)'], df['I_alpha (%)'])\n",
    "df['t1/2_alpha_part (s)'] = np.divide(df['t1/2_alpha (s)'], df['I_alpha_branch (%)'])\n",
    "display(df)"
   ]
  },
  {
   "cell_type": "code",
   "execution_count": null,
   "metadata": {},
   "outputs": [],
   "source": [
    "display(df.reset_index())\n",
    "df = df.reset_index()"
   ]
  },
  {
   "cell_type": "markdown",
   "metadata": {},
   "source": [
    "## Data corrections\n",
    "\n",
    "For at least three of SHN the $Q_{\\alpha}$ is a factor of 1000 too low. Here it is corrected:"
   ]
  },
  {
   "cell_type": "code",
   "execution_count": null,
   "metadata": {},
   "outputs": [],
   "source": [
    "display(df[df['Q_alpha (MeV)'] < 1]['Q_alpha (MeV)'])\n",
    "df.loc[df['Q_alpha (MeV)'] < 1, 'Q_alpha (MeV)'] = df[df['Q_alpha (MeV)'] < 1]['Q_alpha (MeV)']*1e3"
   ]
  },
  {
   "cell_type": "code",
   "execution_count": null,
   "metadata": {},
   "outputs": [],
   "source": [
    "#removing 17=ecAlpha decay, 38, 1128 = almost exact duplicate & 547 = Pb202 with unknown branching ratio\n",
    "df = df.drop([17, 38, 547, 1128])"
   ]
  },
  {
   "cell_type": "code",
   "execution_count": null,
   "metadata": {},
   "outputs": [],
   "source": [
    "display('Duplicates: ', df[df.duplicated(keep=False)]) #displaying which are removed\n",
    "df = df.drop_duplicates(keep='first')"
   ]
  },
  {
   "cell_type": "code",
   "execution_count": null,
   "metadata": {},
   "outputs": [],
   "source": [
    "display(df)"
   ]
  },
  {
   "cell_type": "markdown",
   "metadata": {},
   "source": [
    "## Writing data to binary file"
   ]
  },
  {
   "cell_type": "code",
   "execution_count": null,
   "metadata": {},
   "outputs": [],
   "source": [
    "df.to_pickle('AlphaDecaysDataFrame3.p')"
   ]
  }
 ],
 "metadata": {
  "kernelspec": {
   "display_name": "Python 3",
   "language": "python",
   "name": "python3"
  },
  "language_info": {
   "codemirror_mode": {
    "name": "ipython",
    "version": 3
   },
   "file_extension": ".py",
   "mimetype": "text/x-python",
   "name": "python",
   "nbconvert_exporter": "python",
   "pygments_lexer": "ipython3",
   "version": "3.6.5"
  }
 },
 "nbformat": 4,
 "nbformat_minor": 2
}
